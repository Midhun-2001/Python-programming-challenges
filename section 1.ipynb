{
 "cells": [
  {
   "cell_type": "markdown",
   "id": "4c0ab360",
   "metadata": {},
   "source": [
    "# Section1 "
   ]
  },
  {
   "cell_type": "markdown",
   "id": "8acdf29d",
   "metadata": {},
   "source": [
    "## Program 1 - Three in,three out"
   ]
  },
  {
   "cell_type": "code",
   "execution_count": 36,
   "id": "17cd996b",
   "metadata": {},
   "outputs": [
    {
     "name": "stdout",
     "output_type": "stream",
     "text": [
      "Please enter your name .\n",
      "Lister\n",
      "What is your age?\n",
      "39\n",
      "What is your favorite tv programme?\n",
      "Red Dwarf\n",
      "Lister\n",
      "is\n",
      "39\n",
      "years old and likes\n",
      "Red Dwarf\n"
     ]
    }
   ],
   "source": [
    "print(\"Please enter your name .\")\n",
    "name=input()\n",
    "print(\"What is your age?\")\n",
    "age=input()\n",
    "print(\"What is your favorite tv programme?\")\n",
    "tv=input()\n",
    "print(name)\n",
    "print(\"is\")\n",
    "print(age)\n",
    "print(\"years old and likes\")\n",
    "print(tv)"
   ]
  },
  {
   "cell_type": "markdown",
   "id": "599cb4f1",
   "metadata": {},
   "source": [
    "## Program 2 - Name swapper"
   ]
  },
  {
   "cell_type": "code",
   "execution_count": 2,
   "id": "92a03fd7",
   "metadata": {},
   "outputs": [
    {
     "name": "stdout",
     "output_type": "stream",
     "text": [
      "David\n",
      "Tennant\n",
      "Tennant David\n"
     ]
    }
   ],
   "source": [
    "Fname=input()\n",
    "Sname=input()\n",
    "print(Sname,Fname)\n"
   ]
  },
  {
   "cell_type": "markdown",
   "id": "2f112533",
   "metadata": {},
   "source": [
    "##  Program 3 - Three in, three out (formatted)"
   ]
  },
  {
   "cell_type": "code",
   "execution_count": 3,
   "id": "18b57114",
   "metadata": {},
   "outputs": [
    {
     "name": "stdout",
     "output_type": "stream",
     "text": [
      "Please enter your name .\n",
      "Lister\n",
      "What is your age?\n",
      "39\n",
      "What is your favorite tv programme?\n",
      "Red Dwarf\n",
      "Lister 39\n",
      "Likes watching  Red Dwarf\n"
     ]
    }
   ],
   "source": [
    "print(\"Please enter your name .\")\n",
    "name=input()\n",
    "print(\"What is your age?\")\n",
    "age=input()\n",
    "print(\"What is your favorite tv programme?\")\n",
    "tv=input()\n",
    "print(name,age)\n",
    "print(\"Likes watching \",tv)"
   ]
  },
  {
   "cell_type": "markdown",
   "id": "ec72cb40",
   "metadata": {},
   "source": [
    "## Program 4 - Postcode formatter"
   ]
  },
  {
   "cell_type": "code",
   "execution_count": 4,
   "id": "df137ea9",
   "metadata": {},
   "outputs": [
    {
     "name": "stdout",
     "output_type": "stream",
     "text": [
      "KY\n",
      "8\n",
      "9\n",
      "HL\n",
      "KY8 9HL\n"
     ]
    }
   ],
   "source": [
    "a=input()\n",
    "b=input()\n",
    "c=input()\n",
    "d=input()\n",
    "print(a+str(b),str(c)+d)"
   ]
  },
  {
   "cell_type": "markdown",
   "id": "97475ff4",
   "metadata": {},
   "source": [
    "##  Program 5 - Calculate the area of a rectangle"
   ]
  },
  {
   "cell_type": "code",
   "execution_count": 6,
   "id": "ce90ee06",
   "metadata": {},
   "outputs": [
    {
     "name": "stdout",
     "output_type": "stream",
     "text": [
      "Please enter the following values in cm.\n",
      "Please enter the length of the rectangle.\n",
      "12\n",
      "Please enter the width of the reactangle.\n",
      "6\n",
      "The area of the rectangle is:\n",
      "72 square centimetres\n"
     ]
    }
   ],
   "source": [
    "print(\"Please enter the following values in cm.\")\n",
    "print(\"Please enter the length of the rectangle.\")\n",
    "length=int(input())\n",
    "print(\"Please enter the width of the reactangle.\")\n",
    "width=int(input())\n",
    "area=length*width\n",
    "print(\"The area of the rectangle is:\")\n",
    "print(area,\"square centimetres\")"
   ]
  },
  {
   "cell_type": "markdown",
   "id": "2836d1ca",
   "metadata": {},
   "source": [
    "##  Program 6 - Number generator"
   ]
  },
  {
   "cell_type": "code",
   "execution_count": 9,
   "id": "1ecf4f52",
   "metadata": {},
   "outputs": [
    {
     "name": "stdout",
     "output_type": "stream",
     "text": [
      "2\n",
      "6\n"
     ]
    },
    {
     "data": {
      "text/plain": [
       "26"
      ]
     },
     "execution_count": 9,
     "metadata": {},
     "output_type": "execute_result"
    }
   ],
   "source": [
    "a=int(input())\n",
    "b=int(input())\n",
    "total=(a*10)+b\n",
    "total"
   ]
  },
  {
   "cell_type": "markdown",
   "id": "9f9a1c80",
   "metadata": {},
   "source": [
    "## Program 7 - Postcode formatter (part 2)"
   ]
  },
  {
   "cell_type": "code",
   "execution_count": 11,
   "id": "f56f040e",
   "metadata": {},
   "outputs": [
    {
     "name": "stdout",
     "output_type": "stream",
     "text": [
      "KY\n",
      "8\n",
      "9\n",
      "hl\n",
      "KY8 9HL\n"
     ]
    }
   ],
   "source": [
    "a=input()\n",
    "b=input()\n",
    "c=input()\n",
    "d=input()\n",
    "print(a.upper()+str(b),str(c)+d.upper())"
   ]
  },
  {
   "cell_type": "markdown",
   "id": "15f364b9",
   "metadata": {},
   "source": [
    "##  Program 8 - Name length"
   ]
  },
  {
   "cell_type": "code",
   "execution_count": 13,
   "id": "2e80784c",
   "metadata": {},
   "outputs": [
    {
     "name": "stdout",
     "output_type": "stream",
     "text": [
      "Please enter your forename:\n",
      "David\n",
      "Please enter your surname:\n",
      "Stott\n",
      "There are  10  letters in your name.\n"
     ]
    }
   ],
   "source": [
    "print(\"Please enter your forename:\")\n",
    "forename=str(input())\n",
    "print(\"Please enter your surname:\")\n",
    "surname=str(input())\n",
    "count=len(forename)+len(surname)\n",
    "print(\"There are \",count,\" letters in your name.\")"
   ]
  },
  {
   "cell_type": "markdown",
   "id": "20707dc0",
   "metadata": {},
   "source": [
    "##  Program 9 - Counting vowels"
   ]
  },
  {
   "cell_type": "code",
   "execution_count": 15,
   "id": "b99badcc",
   "metadata": {},
   "outputs": [
    {
     "name": "stdout",
     "output_type": "stream",
     "text": [
      "Please enter a sentence of your choice.\n",
      "Luke, I am your father\n",
      "Your sentence contained the following:\n",
      "a =  2\n",
      "e =  2\n",
      "i =  1\n",
      "o =  1\n",
      "u =  2\n",
      "This is a total of  8  vowels.\n"
     ]
    }
   ],
   "source": [
    "print(\"Please enter a sentence of your choice.\")\n",
    "sentence=str(input())\n",
    "a1=sentence.count('a')\n",
    "a2=sentence.count('A')\n",
    "a3=a1+a2\n",
    "e1=sentence.count('e')\n",
    "e2=sentence.count('E')\n",
    "e3=e1+e2\n",
    "i1=sentence.count('i')\n",
    "i2=sentence.count('I')\n",
    "i3=i1+i2\n",
    "o1=sentence.count('o')\n",
    "o2=sentence.count('O')\n",
    "o3=o1+o2\n",
    "u1=sentence.count('u')\n",
    "u2=sentence.count('U')\n",
    "u3=u1+u2\n",
    "print(\"Your sentence contained the following:\")\n",
    "print(\"a = \",a3)\n",
    "print(\"e = \",e3)\n",
    "print(\"i = \",i3)\n",
    "print(\"o = \",o3)\n",
    "print(\"u = \",u3)\n",
    "vowels=a3+e3+i3+o3+u3\n",
    "print(\"This is a total of \",vowels,\" vowels.\")"
   ]
  },
  {
   "cell_type": "markdown",
   "id": "a9052da7",
   "metadata": {},
   "source": [
    "##  Program 10 - Changing gender"
   ]
  },
  {
   "cell_type": "code",
   "execution_count": 30,
   "id": "31db6532",
   "metadata": {},
   "outputs": [
    {
     "name": "stdout",
     "output_type": "stream",
     "text": [
      "Please enter the male report.\n",
      "He should always ensure that his answers contain as much detail as possible.\n",
      "The female comment is:\n",
      "She should always ensure that her answers contain as much detail as possible.\n"
     ]
    }
   ],
   "source": [
    "print(\"Please enter the male report.\")\n",
    "male=str(input())\n",
    "female1=male.replace(\"his\",\"her\")\n",
    "female2=female1.replace(\"He\",\"She\")\n",
    "print(\"The female comment is:\")\n",
    "print(female2)"
   ]
  },
  {
   "cell_type": "markdown",
   "id": "f19a773b",
   "metadata": {},
   "source": [
    "##  Program 11 - Stock code generator"
   ]
  },
  {
   "cell_type": "code",
   "execution_count": 35,
   "id": "9ae12dab",
   "metadata": {},
   "outputs": [
    {
     "name": "stdout",
     "output_type": "stream",
     "text": [
      "Please ente rthe product name.\n",
      "Plaza Beans\n",
      "Please enter the year.\n",
      "2016\n"
     ]
    },
    {
     "data": {
      "text/plain": [
       "'Plns16'"
      ]
     },
     "execution_count": 35,
     "metadata": {},
     "output_type": "execute_result"
    }
   ],
   "source": [
    "print(\"Please ente rthe product name.\")\n",
    "name=str(input())\n",
    "print(\"Please enter the year.\")\n",
    "year=input()\n",
    "code=name[:2]+name[-2:]+year[-2:]\n",
    "code\n"
   ]
  },
  {
   "cell_type": "markdown",
   "id": "ad0c6398",
   "metadata": {},
   "source": [
    "##  Program 12 - Auction fee"
   ]
  },
  {
   "cell_type": "code",
   "execution_count": 48,
   "id": "6cd5aa56",
   "metadata": {},
   "outputs": [
    {
     "name": "stdout",
     "output_type": "stream",
     "text": [
      "Please enter the costs.\n",
      "12.78\n",
      "6.32\n",
      "34.99\n",
      "The total cost is $54.09\n",
      "The auction companies fee is $ 5.0\n"
     ]
    }
   ],
   "source": [
    "import math\n",
    "print(\"Please enter the costs.\")\n",
    "a=float(input())\n",
    "b=float(input())\n",
    "c=float(input())\n",
    "d=a+b+c\n",
    "print(\"The total cost is $\"+str(d))\n",
    "d=float(d/10)\n",
    "print(\"The auction companies fee is $\",float(round(d)))\n",
    "\n"
   ]
  },
  {
   "cell_type": "markdown",
   "id": "95308e7c",
   "metadata": {},
   "source": [
    "## Program 13 - Calculate the area of a circle"
   ]
  },
  {
   "cell_type": "code",
   "execution_count": 50,
   "id": "5c6cb01a",
   "metadata": {},
   "outputs": [
    {
     "name": "stdout",
     "output_type": "stream",
     "text": [
      "Please enter the following values in cm.\n",
      "Please enter the radius of the circle.\n",
      "16\n",
      "The area of the circle is:\n",
      "803.84  squares centimetres\n"
     ]
    }
   ],
   "source": [
    "\n",
    "print(\"Please enter the following values in cm.\")\n",
    "print(\"Please enter the radius of the circle.\")\n",
    "radius=int(input())\n",
    "area=3.14*(radius**2)\n",
    "print(\"The area of the circle is:\")\n",
    "print(area,\" squares centimetres\")"
   ]
  },
  {
   "cell_type": "markdown",
   "id": "3715b8e0",
   "metadata": {},
   "source": [
    "##  Program 14 - Prize draw cheat"
   ]
  },
  {
   "cell_type": "code",
   "execution_count": 52,
   "id": "83e802e3",
   "metadata": {},
   "outputs": [
    {
     "name": "stdout",
     "output_type": "stream",
     "text": [
      "Please enter the volume of the jar(cm3):\n",
      "2712.96\n",
      "Please enter the volume of one sweet (cm3):\n",
      "2.12\n",
      "1279  sweets fit into the jar.\n"
     ]
    }
   ],
   "source": [
    "print(\"Please enter the volume of the jar(cm3):\")\n",
    "vol1=float(input())\n",
    "print(\"Please enter the volume of one sweet (cm3):\")\n",
    "vol2=float(input())\n",
    "volume=int(vol1/vol2)\n",
    "print(volume,\" sweets fit into the jar.\")"
   ]
  },
  {
   "cell_type": "markdown",
   "id": "db1aea8d",
   "metadata": {},
   "source": [
    "## Program 15 - Leftover paint"
   ]
  },
  {
   "cell_type": "code",
   "execution_count": 67,
   "id": "b1e96920",
   "metadata": {},
   "outputs": [
    {
     "name": "stdout",
     "output_type": "stream",
     "text": [
      "Enter the area in m2 to be painted.\n",
      "178\n",
      "Enter the area (m2) that a single pot covers.\n",
      "25\n",
      "You will need 8 pots of paint.\n",
      "You can paint 3.0 m2 with the leftover paint.\n"
     ]
    }
   ],
   "source": [
    "print(\"Enter the area in m2 to be painted.\")\n",
    "area1=int(input())\n",
    "print(\"Enter the area (m2) that a single pot covers.\")\n",
    "area2=int(input())\n",
    "pot=(area1//area2)+1\n",
    "leftover=float(area1%area2)\n",
    "print(\"You will need\",pot,\"pots of paint.\")\n",
    "print(\"You can paint\",leftover,\"m2 with the leftover paint.\")"
   ]
  },
  {
   "cell_type": "markdown",
   "id": "bc59afb2",
   "metadata": {},
   "source": [
    "##  Program 16 - Laying bricks"
   ]
  },
  {
   "cell_type": "code",
   "execution_count": 70,
   "id": "c9015ccc",
   "metadata": {},
   "outputs": [
    {
     "name": "stdout",
     "output_type": "stream",
     "text": [
      "Please enter the length of a brick in cm:\n",
      "20\n",
      "Please enter the length of the wall in m:\n",
      "9.89\n",
      "47 bricks build one row of wall.\n",
      "This is 2 cm short of the requires wall length.\n"
     ]
    }
   ],
   "source": [
    "print(\"Please enter the length of a brick in cm:\")\n",
    "length=int(input())+1\n",
    "print(\"Please enter the length of the wall in m:\")\n",
    "length1=float(input())\n",
    "brick=int((length1*100)/length)\n",
    "left=int((length1*100)%length)\n",
    "print(brick,\"bricks build one row of wall.\")\n",
    "print(\"This is\",left,\"cm short of the requires wall length.\")"
   ]
  },
  {
   "cell_type": "markdown",
   "id": "7c950c38",
   "metadata": {},
   "source": [
    "## Program 17 - Calculate the atomic weight of hydrocarbons (alkanes)"
   ]
  },
  {
   "cell_type": "code",
   "execution_count": 72,
   "id": "8630e04b",
   "metadata": {},
   "outputs": [
    {
     "name": "stdout",
     "output_type": "stream",
     "text": [
      "Enter the number of carbon atoms.\n",
      "3\n",
      "The atomic mass of C3H8 is 44\n"
     ]
    }
   ],
   "source": [
    "print(\"Enter the number of carbon atoms.\")\n",
    "carbon=int(input())\n",
    "hydrogen=(carbon*2)+2\n",
    "atomic_mass=(carbon*12)+hydrogen\n",
    "print(\"The atomic mass of C3H8 is\",atomic_mass)"
   ]
  },
  {
   "cell_type": "markdown",
   "id": "e1095b90",
   "metadata": {},
   "source": [
    "##  Program 18 - Standard scratch"
   ]
  },
  {
   "cell_type": "code",
   "execution_count": 75,
   "id": "4f6d53f9",
   "metadata": {},
   "outputs": [
    {
     "name": "stdout",
     "output_type": "stream",
     "text": [
      "How many par 3 holes are there?\n",
      "6\n",
      "How many par 4 holes are there?\n",
      "10\n",
      "How many par 5 holes are there?\n",
      "2\n",
      "What is the difficulty adjustments for the course?\n",
      "-2\n",
      "The standard Scratch score for the course is:\n",
      "66\n"
     ]
    }
   ],
   "source": [
    "print(\"How many par 3 holes are there?\")\n",
    "a=int(input())\n",
    "print(\"How many par 4 holes are there?\")\n",
    "b=int(input())\n",
    "print(\"How many par 5 holes are there?\")\n",
    "c=int(input())\n",
    "print(\"What is the difficulty adjustments for the course?\")\n",
    "d=int(input())\n",
    "s=(a*3)+(b*4)+(c*5)\n",
    "scratch=s+d\n",
    "print(\"The standard Scratch score for the course is:\")\n",
    "print(scratch)"
   ]
  },
  {
   "cell_type": "markdown",
   "id": "bef7b594",
   "metadata": {},
   "source": [
    "## Program 19 - Cycling speed"
   ]
  },
  {
   "cell_type": "code",
   "execution_count": 78,
   "id": "5d1e1037",
   "metadata": {},
   "outputs": [
    {
     "name": "stdout",
     "output_type": "stream",
     "text": [
      "What is the circumference of your wheel in millimetres?\n",
      "1250\n",
      "How many wheel revolution have taken place in your journey?\n",
      "8920\n",
      "How many minutes did you cycle for?\n",
      "30\n",
      "You have covered 11.15 km.\n",
      "At an average speed of  22.3 kmh.\n"
     ]
    }
   ],
   "source": [
    "print(\"What is the circumference of your wheel in millimetres?\")\n",
    "circum=int(input())\n",
    "print(\"How many wheel revolution have taken place in your journey?\")\n",
    "revo=int(input())\n",
    "print(\"How many minutes did you cycle for?\")\n",
    "min=int(input())\n",
    "distance=(circum*revo)/10**6\n",
    "speed=(distance)/(min/60)\n",
    "print(\"You have covered\",distance,\"km.\")\n",
    "print(\"At an average speed of \",speed,\"kmh.\")"
   ]
  }
 ],
 "metadata": {
  "kernelspec": {
   "display_name": "Python 3",
   "language": "python",
   "name": "python3"
  },
  "language_info": {
   "codemirror_mode": {
    "name": "ipython",
    "version": 3
   },
   "file_extension": ".py",
   "mimetype": "text/x-python",
   "name": "python",
   "nbconvert_exporter": "python",
   "pygments_lexer": "ipython3",
   "version": "3.8.8"
  }
 },
 "nbformat": 4,
 "nbformat_minor": 5
}
