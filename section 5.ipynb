{
 "cells": [
  {
   "cell_type": "markdown",
   "id": "224240d2",
   "metadata": {},
   "source": [
    "## Program 56-Guess the number(part 2)"
   ]
  },
  {
   "cell_type": "code",
   "execution_count": 4,
   "id": "e33adc62",
   "metadata": {},
   "outputs": [
    {
     "name": "stdout",
     "output_type": "stream",
     "text": [
      "Enter  the hidden number between 1 and 100.\n",
      "Enter your guess60\n",
      "Your guess is too low.Try again.\n",
      "70\n",
      "Your guess is too low.Try again.\n",
      "80\n",
      "Your guess is too high.Try again.\n",
      "78\n",
      "Your guess is too low.Try again.\n",
      "79\n",
      "Correct! Well done.\n"
     ]
    }
   ],
   "source": [
    "import random\n",
    "sum=random.randint(1,100)\n",
    "print(\"Enter  the hidden number between 1 and 100.\")\n",
    "guess=int(input(\"Enter your guess\"))\n",
    "while not guess==sum:\n",
    "    if guess>100:\n",
    "        print(\"Your guess not valid.Enter it again\")\n",
    "        \n",
    "    elif guess>sum:\n",
    "        print(\"Your guess is too high.Try again.\")\n",
    "        \n",
    "    elif guess<sum:\n",
    "        print(\"Your guess is too low.Try again.\")\n",
    "    guess=int(input())\n",
    "print(\"Correct! Well done.\")       "
   ]
  },
  {
   "cell_type": "markdown",
   "id": "dea1f8f0",
   "metadata": {},
   "source": [
    "## Program 57- Comic collector"
   ]
  },
  {
   "cell_type": "code",
   "execution_count": 25,
   "id": "4a89f172",
   "metadata": {},
   "outputs": [
    {
     "name": "stdout",
     "output_type": "stream",
     "text": [
      "Please enter the donated comics: \n",
      "34,56,12,3\n",
      "Liam now owns issues:\n",
      "[1, 2, 3, 7, 8, 9, 10, 16, 34, 56, 12, 3]\n"
     ]
    }
   ],
   "source": [
    "Liam=[1,2,3,7,8,9,10,16]\n",
    "print(\"Please enter the donated comics: \")\n",
    "Anita=[int(i) for i in input().split(\",\")]\n",
    "Liam.extend(Anita)\n",
    "print(\"Liam now owns issues:\")\n",
    "print(Liam)"
   ]
  },
  {
   "cell_type": "markdown",
   "id": "b3bd026b",
   "metadata": {},
   "source": [
    "## Program 58 - Dress sizes "
   ]
  },
  {
   "cell_type": "code",
   "execution_count": 7,
   "id": "7b9b7489",
   "metadata": {},
   "outputs": [
    {
     "name": "stdout",
     "output_type": "stream",
     "text": [
      "Do you wish to add (A) or remove (R) a dress?\n",
      "A\n",
      "Please enter a new dress size: 12\n",
      "Stock = [12]\n",
      "Do you wish to add (A) or remove (R) a dress?\n",
      "A\n",
      "Please enter a new dress size: 14\n",
      "Stock = [12, 14]\n",
      "Do you wish to add (A) or remove (R) a dress?\n",
      "R\n",
      "Please enter a new dress size: 12\n",
      "Stock = [14]\n",
      "Do you wish to add (A) or remove (R) a dress?\n",
      "R\n",
      "Please enter a new dress size: 14\n",
      "Stock = []\n",
      "Do you wish to add (A) or remove (R) a dress?\n",
      "A\n",
      "Please enter a new dress size: 12\n",
      "Stock = [12]\n",
      "Do you wish to add (A) or remove (R) a dress?\n",
      "A\n",
      "Please enter a new dress size: 10\n",
      "Stock = [12, 10]\n",
      "Do you wish to add (A) or remove (R) a dress?\n",
      "A\n",
      "Please enter a new dress size: 8\n",
      "Stock = [12, 10, 8]\n",
      "Do you wish to add (A) or remove (R) a dress?\n",
      "A\n",
      "Please enter a new dress size: 10\n",
      "Stock = [12, 10, 8, 10]\n",
      "Do you wish to add (A) or remove (R) a dress?\n",
      "A\n",
      "Please enter a new dress size: 12\n",
      "Stock = [12, 10, 8, 10, 12]\n",
      "Do you wish to add (A) or remove (R) a dress?\n",
      "A\n",
      "Please enter a new dress size: 14\n",
      "Stock = [12, 10, 8, 10, 12, 14]\n",
      "Do you wish to add (A) or remove (R) a dress?\n",
      "A\n",
      "Please enter a new dress size: 16\n",
      "Stock = [12, 10, 8, 10, 12, 14, 16]\n",
      "Do you wish to add (A) or remove (R) a dress?\n",
      "A\n",
      "Please enter a new dress size: 20\n",
      "Stock = [12, 10, 8, 10, 12, 14, 16, 20]\n",
      "Do you wish to add (A) or remove (R) a dress?\n",
      "A\n",
      "Please enter a new dress size: 12\n",
      "Stock = [12, 10, 8, 10, 12, 14, 16, 20, 12]\n",
      "Do you wish to add (A) or remove (R) a dress?\n",
      "A\n",
      "Please enter a new dress size: 12\n",
      "Stock = [12, 10, 8, 10, 12, 14, 16, 20, 12, 12]\n",
      "Do you wish to add (A) or remove (R) a dress?\n",
      "A\n",
      "Please enter a new dress size: 8\n",
      "Stock = [12, 10, 8, 10, 12, 14, 16, 20, 12, 12, 8]\n",
      "Do you wish to add (A) or remove (R) a dress?\n",
      "A\n",
      "Please enter a new dress size: 999\n",
      "Stock = [12, 10, 8, 10, 12, 14, 16, 20, 12, 12, 8]\n",
      "The largest dress in the stock is size 20\n",
      "The smallest dress in the stock is size 8\n"
     ]
    }
   ],
   "source": [
    "stock=[]\n",
    "new=0\n",
    "while True:\n",
    "    print(\"Do you wish to add (A) or remove (R) a dress?\")\n",
    "    dress=input()\n",
    "    if dress=='A':\n",
    "        new=int(input(\"Please enter a new dress size: \"))\n",
    "       \n",
    "        if new==999:\n",
    "            break\n",
    "        else:\n",
    "            stock.append(new)\n",
    "            print(\"Stock =\",stock)\n",
    "            continue\n",
    "            \n",
    "       \n",
    "    elif dress=='R' :\n",
    "        new=int(input(\"Please enter a new dress size: \"))\n",
    "        stock.remove(new)\n",
    "        if new==999:\n",
    "            break\n",
    "        else:\n",
    "            print(\"Stock =\",stock)\n",
    "            continue\n",
    "            \n",
    "        \n",
    "print(\"Stock =\",stock)\n",
    "largest=max(stock)\n",
    "smallest=min(stock)\n",
    "print(\"The largest dress in the stock is size\",largest)\n",
    "print(\"The smallest dress in the stock is size\",smallest)"
   ]
  },
  {
   "cell_type": "markdown",
   "id": "111dc194",
   "metadata": {},
   "source": [
    "## Program 59 - Which is bigger?"
   ]
  },
  {
   "cell_type": "code",
   "execution_count": 6,
   "id": "e49c55a8",
   "metadata": {},
   "outputs": [
    {
     "name": "stdout",
     "output_type": "stream",
     "text": [
      "I have generated two random numbers.\n",
      "Which is the largest, 1 or 2?\n",
      "Enter your choice.\n",
      "1\n",
      "Number 1 583\n",
      "Number 2 38\n",
      "Correct,Number 1 is the largest\n",
      "Which is the largest, 1 or 2?\n",
      "Enter your choice.\n",
      "2\n",
      "Number 1 707\n",
      "Number 2 582\n",
      "Wrong,Number 1 is the largest\n",
      "Which is the largest, 1 or 2?\n",
      "Enter your choice.\n",
      "2\n",
      "Number 1 428\n",
      "Number 2 655\n",
      "Correct,Number 2 is the largest\n",
      "Which is the largest, 1 or 2?\n",
      "Enter your choice.\n",
      "1\n",
      "Number 1 120\n",
      "Number 2 97\n",
      "Correct,Number 1 is the largest\n",
      "Which is the largest, 1 or 2?\n",
      "Enter your choice.\n",
      "2\n",
      "Number 1 965\n",
      "Number 2 729\n",
      "Wrong,Number 1 is the largest\n",
      "Which is the largest, 1 or 2?\n",
      "Enter your choice.\n",
      "1\n",
      "Number 1 353\n",
      "Number 2 371\n",
      "Wrong,Number 2 is the largest\n",
      "Which is the largest, 1 or 2?\n",
      "Enter your choice.\n",
      "1\n",
      "Number 1 951\n",
      "Number 2 779\n",
      "Correct,Number 1 is the largest\n",
      "Which is the largest, 1 or 2?\n",
      "Enter your choice.\n",
      "1\n",
      "Number 1 530\n",
      "Number 2 267\n",
      "Correct,Number 1 is the largest\n",
      "Which is the largest, 1 or 2?\n",
      "Enter your choice.\n",
      "1\n",
      "Number 1 42\n",
      "Number 2 539\n",
      "Wrong,Number 2 is the largest\n",
      "Which is the largest, 1 or 2?\n",
      "Enter your choice.\n",
      "2\n",
      "Number 1 123\n",
      "Number 2 257\n",
      "Correct,Number 2 is the largest\n",
      "Your total was 6 correct guesses out of 10\n",
      "Your final score was 6 correct.\n"
     ]
    }
   ],
   "source": [
    "import random\n",
    "correct=0\n",
    "numbers=[]\n",
    "print(\"I have generated two random numbers.\")\n",
    "for i in range(10):\n",
    "  \n",
    "    print(\"Which is the largest, 1 or 2?\")\n",
    "    print(\"Enter your choice.\")\n",
    "    choice=int(input())\n",
    "    numbers.append(choice)\n",
    "    a=random.randint(0,1000)\n",
    "    b=random.randint(0,1000)\n",
    "    print(\"Number 1\",a)\n",
    "    print(\"Number 2\",b)\n",
    "    if a>b :\n",
    "        if numbers[i]==1:\n",
    "            correct+=1\n",
    "            print(\"Correct,Number 1 is the largest\")\n",
    "             \n",
    "        else:\n",
    "            print(\"Wrong,Number 1 is the largest\")\n",
    "            continue\n",
    "    elif b>a:\n",
    "        if numbers[i]==2:\n",
    "            print(\"Correct,Number 2 is the largest\") \n",
    "            correct+=1\n",
    "            \n",
    "        else:\n",
    "            print(\"Wrong,Number 2 is the largest\")\n",
    "            continue\n",
    "print(\"Your total was\",correct,\"correct guesses out of 10\")    \n",
    "print(\"Your final score was\",correct,\"correct.\")\n"
   ]
  },
  {
   "cell_type": "markdown",
   "id": "e59fe36c",
   "metadata": {},
   "source": [
    "## Program 60 - Meal Vouchers"
   ]
  },
  {
   "cell_type": "code",
   "execution_count": 27,
   "id": "8abfcb41",
   "metadata": {},
   "outputs": [
    {
     "name": "stdout",
     "output_type": "stream",
     "text": [
      "Enter age: 45\n",
      "Enter seat: 27\n",
      "Do you wish to enter another: Y\n",
      "Enter age: 89\n",
      "Enter seat: 4\n",
      "Do you wish to enter another: Y\n",
      "Enter age: 0\n",
      "Enter seat: 23\n",
      "Do you wish to enter another: Y\n",
      "Enter age: 0\n",
      "Enter seat: 21\n",
      "Do you wish to enter another: Y\n",
      "Enter age: 0\n",
      "Enter seat: 25\n",
      "Do you wish to enter another: Y\n",
      "Enter age: 0\n",
      "Enter seat: 36\n",
      "Do you wish to enter another: Y\n",
      "Enter age: 23\n",
      "Enter seat: 44\n",
      "Do you wish to enter another: Y\n",
      "Enter age: 25\n",
      "Enter seat: 45\n",
      "Do you wish to enter another: Y\n",
      "Enter age: 0\n",
      "Enter seat: 48\n",
      "Do you wish to enter another: Y\n",
      "Enter age: 0\n",
      "Enter seat: 49\n",
      "Do you wish to enter another: N\n",
      "The oldest audience member is sitting in seat 4\n",
      "6 audience members did not give their age.\n"
     ]
    }
   ],
   "source": [
    "Seat=[]\n",
    "Age=[]\n",
    "while True:\n",
    "    age=int(input(\"Enter age: \"))\n",
    "    seat=int(input(\"Enter seat: \"))\n",
    "    choice=input(\"Do you wish to enter another: \")\n",
    "    Seat.append(seat)\n",
    "    Age.append(age)\n",
    "    C=Age.index(max(Age))\n",
    "    if choice=='Y':\n",
    "        continue\n",
    "    else:\n",
    "        break\n",
    "        \n",
    "print(\"The oldest audience member is sitting in seat\",Seat[C])\n",
    "print(Age.count(0),\"audience members did not give their age.\")\n",
    "        "
   ]
  },
  {
   "cell_type": "markdown",
   "id": "5f781c4d",
   "metadata": {},
   "source": [
    "## Program 61 - Driving Scores"
   ]
  },
  {
   "cell_type": "code",
   "execution_count": 34,
   "id": "ec634fa2",
   "metadata": {},
   "outputs": [
    {
     "name": "stdout",
     "output_type": "stream",
     "text": [
      "Please enter the judges' scores:\n",
      "7,8,6,9,6,8,4\n",
      "Please enter the difficulty rating:\n",
      "3.4\n",
      "The three remaining judges' scores are:\n",
      "7\n",
      "6\n",
      "8\n",
      "The diver's score is: 71.4\n"
     ]
    }
   ],
   "source": [
    "print(\"Please enter the judges' scores:\")\n",
    "scores=[int(i) for i in input().split(\",\")]\n",
    "print(\"Please enter the difficulty rating:\")\n",
    "rating=float(input())\n",
    "dive=0\n",
    "for i in range(2):\n",
    "    scores.remove(max(scores))\n",
    "    scores.remove(min(scores))\n",
    "print(\"The three remaining judges' scores are:\")    \n",
    "for j in range(3):\n",
    "    print(scores[j])\n",
    "    dive+=scores[j]*rating\n",
    "print(\"The diver's score is:\",dive)    "
   ]
  },
  {
   "cell_type": "markdown",
   "id": "1286cc75",
   "metadata": {},
   "source": [
    "## Program 62 - Dice solitaire game"
   ]
  },
  {
   "cell_type": "code",
   "execution_count": 55,
   "id": "529b11fd",
   "metadata": {},
   "outputs": [
    {
     "name": "stdout",
     "output_type": "stream",
     "text": [
      "Dice rolled =  2\n",
      "After roll 1 : [2]\n",
      "Dice rolled =  4\n",
      "After roll 2 : [2, 4]\n",
      "Dice rolled =  1\n",
      "After roll 3 : [2, 4, 1]\n",
      "Dice rolled =  1\n",
      "After roll 4 : [2, 4]\n",
      "Dice rolled =  5\n",
      "After roll 5 : [2, 4, 5]\n",
      "Dice rolled =  1\n",
      "After roll 6 : [2, 4, 5, 1]\n",
      "Dice rolled =  3\n",
      "After roll 7 : [2, 4, 5, 1, 3]\n",
      "Dice rolled =  6\n",
      "After roll 8 : [2, 4, 5, 1, 3, 6]\n",
      "Game completed in 8 rols of dice.\n"
     ]
    }
   ],
   "source": [
    "import random                                                   \n",
    "dice=0\n",
    "roll=[]\n",
    "R=0\n",
    "a=0\n",
    "while  len(roll)!=6:\n",
    "    r=random.randint(1,6)\n",
    "    print(\"Dice rolled = \",r)\n",
    "\n",
    "    if roll.count(r)==0:\n",
    "            roll.append(r)\n",
    "    else:\n",
    "           roll.remove(r)\n",
    "    R+=1\n",
    "    print(\"After roll\",R,\":\",roll) \n",
    "           \n",
    "print(\"Game completed in\",R,\"rols of dice.\")    \n",
    "   "
   ]
  },
  {
   "cell_type": "code",
   "execution_count": null,
   "id": "c578a3e0",
   "metadata": {},
   "outputs": [],
   "source": []
  }
 ],
 "metadata": {
  "kernelspec": {
   "display_name": "Python 3",
   "language": "python",
   "name": "python3"
  },
  "language_info": {
   "codemirror_mode": {
    "name": "ipython",
    "version": 3
   },
   "file_extension": ".py",
   "mimetype": "text/x-python",
   "name": "python",
   "nbconvert_exporter": "python",
   "pygments_lexer": "ipython3",
   "version": "3.8.8"
  }
 },
 "nbformat": 4,
 "nbformat_minor": 5
}
