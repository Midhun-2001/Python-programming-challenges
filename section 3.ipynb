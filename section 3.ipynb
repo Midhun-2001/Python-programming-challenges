{
 "cells": [
  {
   "cell_type": "markdown",
   "id": "576ecabe",
   "metadata": {},
   "source": [
    "# Section 3"
   ]
  },
  {
   "cell_type": "markdown",
   "id": "d0bba144",
   "metadata": {},
   "source": [
    "# For loop"
   ]
  },
  {
   "cell_type": "markdown",
   "id": "90773d67",
   "metadata": {},
   "source": [
    "## Prigram 28 - Lines cheat"
   ]
  },
  {
   "cell_type": "code",
   "execution_count": 1,
   "id": "fe8793a7",
   "metadata": {},
   "outputs": [
    {
     "name": "stdout",
     "output_type": "stream",
     "text": [
      "Which sentence would you like copied?\n",
      "Don't behave like a muppet in class.\n",
      "Don't behave like a muppet in class.\n",
      "Don't behave like a muppet in class.\n",
      "Don't behave like a muppet in class.\n",
      "Don't behave like a muppet in class.\n",
      "Don't behave like a muppet in class.\n",
      "Don't behave like a muppet in class.\n",
      "Don't behave like a muppet in class.\n",
      "Don't behave like a muppet in class.\n",
      "Don't behave like a muppet in class.\n",
      "Don't behave like a muppet in class.\n",
      "Don't behave like a muppet in class.\n",
      "Don't behave like a muppet in class.\n",
      "Don't behave like a muppet in class.\n",
      "Don't behave like a muppet in class.\n",
      "Don't behave like a muppet in class.\n",
      "Don't behave like a muppet in class.\n",
      "Don't behave like a muppet in class.\n",
      "Don't behave like a muppet in class.\n",
      "Don't behave like a muppet in class.\n",
      "Don't behave like a muppet in class.\n"
     ]
    }
   ],
   "source": [
    "print(\"Which sentence would you like copied?\")\n",
    "sentence=str(input())\n",
    "for i in range(20):\n",
    "    print(sentence)"
   ]
  },
  {
   "cell_type": "markdown",
   "id": "fa533a5e",
   "metadata": {},
   "source": [
    "## Program 29 - Charity collection (part 3)"
   ]
  },
  {
   "cell_type": "code",
   "execution_count": 2,
   "id": "9b47088f",
   "metadata": {},
   "outputs": [
    {
     "name": "stdout",
     "output_type": "stream",
     "text": [
      "Please enter the first amount raised.\n",
      "398\n",
      "Please enter the second amount raised.\n",
      "193\n",
      "Please enter the third amount raised.\n",
      "478\n",
      "A total of $1069 was raised.\n",
      "$2138\n",
      "$2138\n",
      "$2138\n"
     ]
    }
   ],
   "source": [
    "print(\"Please enter the first amount raised.\")\n",
    "first=int(input())\n",
    "print(\"Please enter the second amount raised.\")\n",
    "second=int(input())\n",
    "print(\"Please enter the third amount raised.\")\n",
    "third=int(input())\n",
    "raised=first+second+third\n",
    "double=2*raised\n",
    "print(\"A total of $\"+str(raised),\"was raised.\")\n",
    "for i in range(3):\n",
    "    print(\"$\"+str(double))"
   ]
  },
  {
   "cell_type": "markdown",
   "id": "72c4f0c2",
   "metadata": {},
   "source": [
    "## Program 30 - Name switch"
   ]
  },
  {
   "cell_type": "code",
   "execution_count": 6,
   "id": "365901d7",
   "metadata": {},
   "outputs": [
    {
     "name": "stdout",
     "output_type": "stream",
     "text": [
      "Please enter first name:\n",
      "Matt\n",
      "Please enter surname:\n",
      "Reid\n",
      "M R MATT reid MattReid\n",
      "MattReid REID matt m r\n",
      "M R MATT reid MattReid\n",
      "MattReid REID matt m r\n",
      "M R MATT reid MattReid\n",
      "MattReid REID matt m r\n"
     ]
    }
   ],
   "source": [
    "print(\"Please enter first name:\")\n",
    "fn=str(input())\n",
    "print(\"Please enter surname:\")\n",
    "sn=str(input())\n",
    "for i in range(3):\n",
    "    print(fn[:1].upper(),sn[:1].upper(),fn.upper(),sn.lower(),str(fn+sn))\n",
    "    print(str(fn+sn),sn.upper(),fn.lower(),fn[:1].lower(),sn[:1].lower())"
   ]
  },
  {
   "cell_type": "markdown",
   "id": "95dadae6",
   "metadata": {},
   "source": [
    "## Program 31 - Cricket over"
   ]
  },
  {
   "cell_type": "code",
   "execution_count": 7,
   "id": "facf7f85",
   "metadata": {},
   "outputs": [
    {
     "name": "stdout",
     "output_type": "stream",
     "text": [
      "Please enter the score for each ball.\n",
      "0\n",
      "2\n",
      "0\n",
      "0\n",
      "4\n",
      "6\n",
      "This over's score was:  12\n"
     ]
    }
   ],
   "source": [
    "print(\"Please enter the score for each ball.\")\n",
    "score=0\n",
    "for i in range(6):\n",
    "    runs=int(input())\n",
    "    score=score+runs\n",
    "print(\"This over's score was: \",score)    \n",
    "    "
   ]
  },
  {
   "cell_type": "markdown",
   "id": "0232e874",
   "metadata": {},
   "source": [
    "## Program 32 - Average temperature"
   ]
  },
  {
   "cell_type": "code",
   "execution_count": 11,
   "id": "615b74a0",
   "metadata": {},
   "outputs": [
    {
     "name": "stdout",
     "output_type": "stream",
     "text": [
      "Please enter the seven temperatures.\n",
      "12\n",
      "14\n",
      "7\n",
      "6\n",
      "7\n",
      "11\n",
      "11\n",
      "This week's average was: \n",
      "9.71 degree centigrade\n"
     ]
    }
   ],
   "source": [
    "print(\"Please enter the seven temperatures.\")\n",
    "temp=0\n",
    "for i in range(7):\n",
    "    temperature=int(input())\n",
    "    temp=temp+temperature\n",
    "avg=temp/7    \n",
    "print(\"This week's average was: \")\n",
    "print(round(avg,2),\"degree centigrade\")\n",
    "    "
   ]
  },
  {
   "cell_type": "markdown",
   "id": "3bb85eb2",
   "metadata": {},
   "source": [
    "## Program 33 - Lines cheat (part 2)"
   ]
  },
  {
   "cell_type": "code",
   "execution_count": 12,
   "id": "b9c4a46f",
   "metadata": {},
   "outputs": [
    {
     "name": "stdout",
     "output_type": "stream",
     "text": [
      "Which sentence would you like copied?\n",
      "Mr Reid is the best teacher.\n",
      "How many times would you like this copied?\n",
      "54\n",
      "Mr Reid is the best teacher.\n",
      "Mr Reid is the best teacher.\n",
      "Mr Reid is the best teacher.\n",
      "Mr Reid is the best teacher.\n",
      "Mr Reid is the best teacher.\n",
      "Mr Reid is the best teacher.\n",
      "Mr Reid is the best teacher.\n",
      "Mr Reid is the best teacher.\n",
      "Mr Reid is the best teacher.\n",
      "Mr Reid is the best teacher.\n",
      "Mr Reid is the best teacher.\n",
      "Mr Reid is the best teacher.\n",
      "Mr Reid is the best teacher.\n",
      "Mr Reid is the best teacher.\n",
      "Mr Reid is the best teacher.\n",
      "Mr Reid is the best teacher.\n",
      "Mr Reid is the best teacher.\n",
      "Mr Reid is the best teacher.\n",
      "Mr Reid is the best teacher.\n",
      "Mr Reid is the best teacher.\n",
      "Mr Reid is the best teacher.\n",
      "Mr Reid is the best teacher.\n",
      "Mr Reid is the best teacher.\n",
      "Mr Reid is the best teacher.\n",
      "Mr Reid is the best teacher.\n",
      "Mr Reid is the best teacher.\n",
      "Mr Reid is the best teacher.\n",
      "Mr Reid is the best teacher.\n",
      "Mr Reid is the best teacher.\n",
      "Mr Reid is the best teacher.\n",
      "Mr Reid is the best teacher.\n",
      "Mr Reid is the best teacher.\n",
      "Mr Reid is the best teacher.\n",
      "Mr Reid is the best teacher.\n",
      "Mr Reid is the best teacher.\n",
      "Mr Reid is the best teacher.\n",
      "Mr Reid is the best teacher.\n",
      "Mr Reid is the best teacher.\n",
      "Mr Reid is the best teacher.\n",
      "Mr Reid is the best teacher.\n",
      "Mr Reid is the best teacher.\n",
      "Mr Reid is the best teacher.\n",
      "Mr Reid is the best teacher.\n",
      "Mr Reid is the best teacher.\n",
      "Mr Reid is the best teacher.\n",
      "Mr Reid is the best teacher.\n",
      "Mr Reid is the best teacher.\n",
      "Mr Reid is the best teacher.\n",
      "Mr Reid is the best teacher.\n",
      "Mr Reid is the best teacher.\n",
      "Mr Reid is the best teacher.\n",
      "Mr Reid is the best teacher.\n",
      "Mr Reid is the best teacher.\n",
      "Mr Reid is the best teacher.\n"
     ]
    }
   ],
   "source": [
    "print(\"Which sentence would you like copied?\")\n",
    "sentence=str(input())\n",
    "print(\"How many times would you like this copied?\")\n",
    "times=int(input())\n",
    "for i in range(times):\n",
    "    print(sentence)"
   ]
  },
  {
   "cell_type": "markdown",
   "id": "0398979e",
   "metadata": {},
   "source": [
    "## Program 34 - Charity collection (part 4)"
   ]
  },
  {
   "cell_type": "code",
   "execution_count": 13,
   "id": "eb282519",
   "metadata": {},
   "outputs": [
    {
     "name": "stdout",
     "output_type": "stream",
     "text": [
      "How many charity raisers were there?\n",
      "6\n",
      "Enter the total raised by each:\n",
      "238\n",
      "624\n",
      "546\n",
      "333\n",
      "651\n",
      "174\n",
      "A total of $2566 was raised.\n",
      "This will be inceased to:\n",
      "$4566!!!\n",
      "$4566!!!\n",
      "$4566!!!\n"
     ]
    }
   ],
   "source": [
    "print(\"How many charity raisers were there?\")\n",
    "raised=0\n",
    "first=int(input())\n",
    "print(\"Enter the total raised by each:\")\n",
    "for i in range(first):\n",
    "    total=int(input())\n",
    "    raised=raised+total\n",
    "double=4000+(raised-2000)\n",
    "print(\"A total of $\"+str(raised),\"was raised.\")\n",
    "print(\"This will be inceased to:\")\n",
    "for i in range(3):\n",
    "    print(\"$\"+str(double)+\"!!!\")"
   ]
  },
  {
   "cell_type": "markdown",
   "id": "61e4d403",
   "metadata": {},
   "source": [
    "## Program 35 - Press up challenge"
   ]
  },
  {
   "cell_type": "code",
   "execution_count": 18,
   "id": "f6c07c16",
   "metadata": {},
   "outputs": [
    {
     "name": "stdout",
     "output_type": "stream",
     "text": [
      "Please enter the number of students:\n",
      "3\n",
      "Enter the times in seconds for each student.\n",
      "Student 1\n",
      "82\n",
      "Student 2\n",
      "67\n",
      "Student 3\n",
      "45\n",
      "The average average time for the 3 students was: \n",
      "64.67 seconds\n"
     ]
    }
   ],
   "source": [
    "print(\"Please enter the number of students:\")\n",
    "num=int(input())\n",
    "temp=0\n",
    "print(\"Enter the times in seconds for each student.\")\n",
    "for i in range(num):\n",
    "    print(\"Student\",i+1)\n",
    "    student=int(input())\n",
    "    temp=temp+student\n",
    "avg=temp/num  \n",
    "print(\"The average average time for the 3 students was: \")\n",
    "print(round(avg,2),\"seconds\")\n",
    "    "
   ]
  },
  {
   "cell_type": "markdown",
   "id": "af725cbd",
   "metadata": {},
   "source": [
    "## Program 36 - Number patterns"
   ]
  },
  {
   "cell_type": "code",
   "execution_count": 20,
   "id": "cc46c510",
   "metadata": {},
   "outputs": [
    {
     "name": "stdout",
     "output_type": "stream",
     "text": [
      "Odd Numbers List\n",
      "1\n",
      "3\n",
      "5\n",
      "7\n",
      "9\n",
      "11\n"
     ]
    }
   ],
   "source": [
    "print(\"Odd Numbers List\")\n",
    "for i in range(1,12,2):\n",
    "    print(i)"
   ]
  },
  {
   "cell_type": "markdown",
   "id": "57207af9",
   "metadata": {},
   "source": [
    "## Program 37 - Number patterns (part 2)"
   ]
  },
  {
   "cell_type": "code",
   "execution_count": 22,
   "id": "41bbfa01",
   "metadata": {
    "scrolled": true
   },
   "outputs": [
    {
     "name": "stdout",
     "output_type": "stream",
     "text": [
      "The following program will display odd numbers.\n",
      "Enter the first number in the list\n",
      "5\n",
      "Enter the last number in the list\n",
      "13\n",
      "Odd Numbers List\n",
      "5\n",
      "7\n",
      "9\n",
      "11\n",
      "13\n"
     ]
    }
   ],
   "source": [
    "print(\"The following program will display odd numbers.\")\n",
    "print(\"Enter the first number in the list\")\n",
    "fn=int(input())\n",
    "print(\"Enter the last number in the list\")\n",
    "ln=int(input())\n",
    "print(\"Odd Numbers List\")\n",
    "for i in range(fn,ln+1,2):\n",
    "    print(i)"
   ]
  },
  {
   "cell_type": "markdown",
   "id": "dc3b8708",
   "metadata": {},
   "source": [
    "# Conditional loops"
   ]
  },
  {
   "cell_type": "markdown",
   "id": "211c0941",
   "metadata": {},
   "source": [
    "## Program 38 - Password"
   ]
  },
  {
   "cell_type": "code",
   "execution_count": 24,
   "id": "a1ca027e",
   "metadata": {},
   "outputs": [
    {
     "name": "stdout",
     "output_type": "stream",
     "text": [
      "Please enter the password.\n",
      "snool\n",
      "Sorry , incorrect! Try again.\n",
      "Please enter the password.\n",
      "ornery\n",
      "Entry gained\n"
     ]
    }
   ],
   "source": [
    "print(\"Please enter the password.\")\n",
    "password=str(input())\n",
    "while not password==\"ornery\":\n",
    "    print(\"Sorry , incorrect! Try again.\")\n",
    "    print(\"Please enter the password.\")\n",
    "    password=str(input())\n",
    "print(\"Entry gained\")    \n",
    "    "
   ]
  },
  {
   "cell_type": "markdown",
   "id": "c76bf542",
   "metadata": {},
   "source": [
    "## Program 39 - Number pattern (part 3)"
   ]
  },
  {
   "cell_type": "code",
   "execution_count": 29,
   "id": "8281e71f",
   "metadata": {},
   "outputs": [
    {
     "name": "stdout",
     "output_type": "stream",
     "text": [
      "The following program will display odd numbers.\n",
      "Enter the first number in the list\n",
      "5\n",
      "Enter the last number in the list\n",
      "17\n",
      "Sorry , the number must be at least 5+20\n",
      "Please re-nter the number\n",
      "27\n",
      "Odd Numbers List\n",
      "5\n",
      "7\n",
      "9\n",
      "11\n",
      "13\n",
      "15\n",
      "17\n",
      "19\n",
      "21\n",
      "23\n",
      "25\n"
     ]
    }
   ],
   "source": [
    "print(\"The following program will display odd numbers.\")\n",
    "print(\"Enter the first number in the list\")\n",
    "fn=int(input())\n",
    "print(\"Enter the last number in the list\")\n",
    "ln=int(input())\n",
    "while ln<=fn+20:\n",
    "    print(\"Sorry , the number must be at least \"+str(fn)+\"+20\")\n",
    "    print(\"Please re-nter the number\")\n",
    "    ln=int(input())\n",
    "print(\"Odd Numbers List\")\n",
    "for i in range(fn,ln,2):\n",
    "    print(i)"
   ]
  },
  {
   "cell_type": "markdown",
   "id": "55a87ba5",
   "metadata": {},
   "source": [
    "## Program 40 - Advice please (part 3)"
   ]
  },
  {
   "cell_type": "code",
   "execution_count": 30,
   "id": "af030410",
   "metadata": {},
   "outputs": [
    {
     "name": "stdout",
     "output_type": "stream",
     "text": [
      "Would you like some advice :N\n",
      "Please enter Y or N only.\n",
      "Would you like some advice :N\n",
      "Don't be silly, you definitely need advice!\n",
      "Would you like some advice :Y\n",
      "Don't feed trolls!\n"
     ]
    }
   ],
   "source": [
    "doc=str(input(\"Would you like some advice :\"))\n",
    "while not doc=='Y' or doc=='N':\n",
    "    print(\"Please enter Y or N only.\")\n",
    "    doc=str(input(\"Would you like some advice :\"))\n",
    "    while doc=='N':\n",
    "        print(\"Don't be silly, you definitely need advice!\")\n",
    "        doc=str(input(\"Would you like some advice :\"))\n",
    "print(\"Don't feed trolls!\")    "
   ]
  },
  {
   "cell_type": "markdown",
   "id": "51e3ba1b",
   "metadata": {},
   "source": [
    "## Program 41 -  No more presents"
   ]
  },
  {
   "cell_type": "code",
   "execution_count": 4,
   "id": "b6a28ccd",
   "metadata": {},
   "outputs": [
    {
     "name": "stdout",
     "output_type": "stream",
     "text": [
      "Please enter the price of each present:\n",
      "35\n",
      "100\n",
      "50\n",
      "45\n",
      "Limit Exceeded\n",
      "You can't include the $ 45 present.\n"
     ]
    }
   ],
   "source": [
    "print(\"Please enter the price of each present:\")\n",
    "price=0 \n",
    "total=0 \n",
    "while total<200: \n",
    "    price=int(input())\n",
    "    total=total+price \n",
    "print(\"Limit Exceeded\")\n",
    "print(\"You can't include the $\",price,\"present.\")"
   ]
  },
  {
   "cell_type": "markdown",
   "id": "048edbdd",
   "metadata": {},
   "source": [
    "##  Program 42 - Menu system"
   ]
  },
  {
   "cell_type": "code",
   "execution_count": 35,
   "id": "a5529a1d",
   "metadata": {},
   "outputs": [
    {
     "name": "stdout",
     "output_type": "stream",
     "text": [
      "Enter your menu choice (Q,A,K, or L)\n",
      "a\n",
      "A selected\n"
     ]
    }
   ],
   "source": [
    "print(\"Enter your menu choice (Q,A,K, or L)\")\n",
    "choice=input()\n",
    "while not choice=='Q ' or choice=='A' or choice=='K' or choice=='L' :\n",
    "    if choice=='q' or choice=='a' or choice=='k' or choice=='l' :\n",
    "        choice=choice.upper()\n",
    "        break\n",
    "        \n",
    "    else:\n",
    "        print(choice,\"is not valid.Enter Q, A, K or L \")\n",
    "        choice=input()\n",
    "        break\n",
    "print(choice,\"selected\")        "
   ]
  },
  {
   "cell_type": "code",
   "execution_count": 41,
   "id": "3051a38a",
   "metadata": {},
   "outputs": [
    {
     "name": "stdout",
     "output_type": "stream",
     "text": [
      "Enter your menu choice (Q,A,K, or L)\n",
      "V\n",
      "V is not valid.Enter Q, A, K or L \n",
      "L\n",
      "L selected\n"
     ]
    }
   ],
   "source": [
    "print(\"Enter your menu choice (Q,A,K, or L)\")\n",
    "choice=input()\n",
    "while not choice=='Q ' or choice=='A' or choice=='K' or choice=='L' :\n",
    "    if choice=='q' or choice=='a' or choice=='k' or choice=='l' :\n",
    "        choice=choice.upper()\n",
    "        break\n",
    "    else:\n",
    "        print(choice,\"is not valid.Enter Q, A, K or L \")\n",
    "        choice=input()\n",
    "        break\n",
    "print(choice,\"selected\")        "
   ]
  },
  {
   "cell_type": "markdown",
   "id": "c27ddfde",
   "metadata": {},
   "source": [
    "# Difficult program"
   ]
  },
  {
   "cell_type": "markdown",
   "id": "766b3662",
   "metadata": {},
   "source": [
    "##  Program 43 - Guess the number"
   ]
  },
  {
   "cell_type": "code",
   "execution_count": 3,
   "id": "ef8f02f1",
   "metadata": {},
   "outputs": [
    {
     "name": "stdout",
     "output_type": "stream",
     "text": [
      "Enter  the hidden number between 1 and 100.\n",
      "Enter your guess112\n",
      "Your guess not valid.Enter it again\n",
      "67\n",
      "Your guess is too high.Try again.\n",
      "50\n",
      "Your guess is too low.Try again.\n",
      "52\n",
      "Correct! Well done.\n"
     ]
    }
   ],
   "source": [
    "print(\"Enter  the hidden number between 1 and 100.\")\n",
    "guess=int(input(\"Enter your guess\"))\n",
    "while not guess==52:\n",
    "    if guess>100:\n",
    "        print(\"Your guess not valid.Enter it again\")\n",
    "        \n",
    "    elif guess>52:\n",
    "        print(\"Your guess is too high.Try again.\")\n",
    "        \n",
    "    elif guess<52:\n",
    "        print(\"Your guess is too low.Try again.\")\n",
    "    guess=int(input())\n",
    "    \n",
    "        \n",
    "print(\"Correct! Well done.\")        "
   ]
  },
  {
   "cell_type": "markdown",
   "id": "62352265",
   "metadata": {},
   "source": [
    "##  Program 44 - Average temperature (part 4)"
   ]
  },
  {
   "cell_type": "code",
   "execution_count": 48,
   "id": "afac127c",
   "metadata": {},
   "outputs": [
    {
     "name": "stdout",
     "output_type": "stream",
     "text": [
      "Week 1\n",
      "Please enter the seven temperatures.\n",
      "12\n",
      "14\n",
      "7\n",
      "6\n",
      "66\n",
      "Temperature should be between -40 and 55 \n",
      "7\n",
      "11\n",
      "11\n",
      "Week 2\n",
      "Please enter the seven temperatures.\n",
      "11\n",
      "11\n",
      "9\n",
      "13\n",
      "15\n",
      "15\n",
      "11\n",
      "Week 3\n",
      "Please enter the seven temperatures.\n",
      "5\n",
      "15\n",
      "7\n",
      "10\n",
      "3\n",
      "11\n",
      "12\n",
      "Week 4\n",
      "Please enter the seven temperatures.\n",
      "15\n",
      "14\n",
      "14\n",
      "16\n",
      "13\n",
      "14\n",
      "14\n",
      "Week 1  average was: \n",
      "9.71 degree centigrade\n",
      "Week 2  average was: \n",
      "21.86 degree centigrade\n",
      "Week 3  average was: \n",
      "30.86 degree centigrade\n",
      "Week 4  average was: \n",
      "45.14 degree centigrade\n"
     ]
    }
   ],
   "source": [
    " temp=0\n",
    "for i in range(4):\n",
    "    print(\"Week\",i+1)\n",
    "    print(\"Please enter the seven temperatures.\")\n",
    "   \n",
    "    for k in range(7):\n",
    "        temperature=int(input())\n",
    "        if temperature<=-40 or temperature>=55:\n",
    "            print(\"Temperature should be between -40 and 55 \")\n",
    "            temperature=int(input())\n",
    "        temp=temp+temperature\n",
    "    avg=temp/7   \n",
    "    if i==0:\n",
    "        t0=avg\n",
    "    elif i==1:\n",
    "        t1=avg\n",
    "    elif i==2:\n",
    "        t2=avg\n",
    "    elif i==3:\n",
    "        t3=avg    \n",
    "for j in range(4):\n",
    "    print(\"Week\",j+1,\" average was: \")\n",
    "    \n",
    "    if j==0:\n",
    "        print(round(t0,2),\"degree centigrade\")\n",
    "    elif j==1:\n",
    "        print(round(t1,2),\"degree centigrade\")\n",
    "    elif j==2:\n",
    "        print(round(t2,2),\"degree centigrade\")\n",
    "    elif j==3:\n",
    "        print(round(t3,2),\"degree centigrade\")\n"
   ]
  },
  {
   "cell_type": "markdown",
   "id": "be7fbb78",
   "metadata": {},
   "source": [
    "##  Program 45 - Pailwater darts tournament"
   ]
  },
  {
   "cell_type": "code",
   "execution_count": 52,
   "id": "a3aee4bc",
   "metadata": {},
   "outputs": [
    {
     "name": "stdout",
     "output_type": "stream",
     "text": [
      "Please enter the scores for player one \n",
      "34\n",
      "26\n",
      "200\n",
      "Invalid score  \n",
      "100\n",
      "Please enter the scores for player two\n",
      "78\n",
      "80\n",
      "97\n",
      "Player one scored highest individual score.\n",
      "Player one wins!!\n"
     ]
    }
   ],
   "source": [
    "print(\"Please enter the scores for player one \")\n",
    "total1=0  \n",
    "total2=0 \n",
    "for i in range(3):\n",
    "    score=int(input())\n",
    "    if score<0 or score > 180:\n",
    "        print(\"Invalid score  \")\n",
    "        score=int(input())\n",
    "    total1=total+score     \n",
    "print(\"Please enter the scores for player two\")\n",
    " \n",
    "for j in range(3):\n",
    "    score=int(input())\n",
    "    if score<0 or score > 180:\n",
    "        print(\"Invalid score  \")\n",
    "        score=int(input())\n",
    "    total2=total+score     \n",
    "                       \n",
    "if total1>total2:\n",
    "                   print(\"Player one scored highest individual score.\")\n",
    "                   print(\"Player one wins!!\")\n",
    "else:\n",
    "                   print(\"Player two scored highest individual score.\")\n",
    "                   print(\"Player two wins!!\")\n",
    "                   \n",
    "                   \n",
    "                   \n",
    "                   \n",
    "                   "
   ]
  },
  {
   "cell_type": "code",
   "execution_count": null,
   "id": "8d4dcee6",
   "metadata": {},
   "outputs": [],
   "source": []
  }
 ],
 "metadata": {
  "kernelspec": {
   "display_name": "Python 3",
   "language": "python",
   "name": "python3"
  },
  "language_info": {
   "codemirror_mode": {
    "name": "ipython",
    "version": 3
   },
   "file_extension": ".py",
   "mimetype": "text/x-python",
   "name": "python",
   "nbconvert_exporter": "python",
   "pygments_lexer": "ipython3",
   "version": "3.8.8"
  }
 },
 "nbformat": 4,
 "nbformat_minor": 5
}
