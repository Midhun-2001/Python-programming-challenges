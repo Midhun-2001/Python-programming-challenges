{
 "cells": [
  {
   "cell_type": "markdown",
   "id": "b73d4150",
   "metadata": {},
   "source": [
    "# Section 2"
   ]
  },
  {
   "cell_type": "markdown",
   "id": "c70de112",
   "metadata": {},
   "source": [
    "## Program 20 - Advice please"
   ]
  },
  {
   "cell_type": "code",
   "execution_count": 1,
   "id": "7c38400d",
   "metadata": {},
   "outputs": [
    {
     "name": "stdout",
     "output_type": "stream",
     "text": [
      "Would you like some advice?\n",
      "Y\n",
      "Always know where your towel is.\n"
     ]
    }
   ],
   "source": [
    "print(\"Would you like some advice?\")\n",
    "advice=input()\n",
    "if advice=='Y':\n",
    "    print(\"Always know where your towel is.\")\n",
    "\n",
    "    "
   ]
  },
  {
   "cell_type": "markdown",
   "id": "8c18a537",
   "metadata": {},
   "source": [
    "## Program 21 -  Go winner"
   ]
  },
  {
   "cell_type": "code",
   "execution_count": 3,
   "id": "4fa8e4a5",
   "metadata": {},
   "outputs": [
    {
     "name": "stdout",
     "output_type": "stream",
     "text": [
      "What is Black's score?\n",
      "88\n",
      "What is white's score?\n",
      "84\n",
      "After 6.5 is added the score is:\n",
      "Black -  88\n",
      "White -  90.5\n",
      "White is the winner\n"
     ]
    }
   ],
   "source": [
    "print(\"What is Black's score?\")\n",
    "black=int(input())\n",
    "print(\"What is white's score?\")\n",
    "white=int(input())\n",
    "white=white+ 6.5\n",
    "print(\"After 6.5 is added the score is:\")\n",
    "print(\"Black - \",black)\n",
    "print(\"White - \",white)\n",
    "if black>white:\n",
    "    print(\"Black is the winner.\")\n",
    "else:\n",
    "    print(\"White is the winner\")"
   ]
  },
  {
   "cell_type": "markdown",
   "id": "9de6efab",
   "metadata": {},
   "source": [
    "## Program 22- Charity collection"
   ]
  },
  {
   "cell_type": "code",
   "execution_count": 5,
   "id": "b649af08",
   "metadata": {},
   "outputs": [
    {
     "name": "stdout",
     "output_type": "stream",
     "text": [
      "Please enter the first amount raised.\n",
      "398\n",
      "Please enter the second amount raised.\n",
      "193\n",
      "Please enter the third amount raised.\n",
      "478\n",
      "Atotal of $1069 was raised.\n",
      "This will be doubled to $2138.\n"
     ]
    }
   ],
   "source": [
    "print(\"Please enter the first amount raised.\")\n",
    "first=int(input())\n",
    "print(\"Please enter the second amount raised.\")\n",
    "second=int(input())\n",
    "print(\"Please enter the third amount raised.\")\n",
    "third=int(input())\n",
    "raised=first+second+third\n",
    "if raised>1000:\n",
    "    double=2*raised\n",
    "    print(\"Atotal of $\"+str(raised),\"was raised.\")\n",
    "    print(\"This will be doubled to $\"+str(double)+\".\")\n",
    "else:\n",
    "    double=raised\n",
    "    print(\"Atotal of $\"+str(double),\"was raised.\")\n",
    "\n"
   ]
  },
  {
   "cell_type": "markdown",
   "id": "64919795",
   "metadata": {},
   "source": [
    "## Program 23 - Calculate the area of a rectangle( part 2)"
   ]
  },
  {
   "cell_type": "code",
   "execution_count": 8,
   "id": "5ab241c2",
   "metadata": {},
   "outputs": [
    {
     "name": "stdout",
     "output_type": "stream",
     "text": [
      "Rectangle 1\n",
      "Please enter the length:\n",
      "12\n",
      "Please enter the width:\n",
      "6\n",
      "Rectangle 2\n",
      "Please enter the length:\n",
      "7\n",
      "Please enter the width:\n",
      "9\n",
      "Rectangle 1 has largest area.\n"
     ]
    }
   ],
   "source": [
    "print(\"Rectangle 1\")\n",
    "print(\"Please enter the length:\")\n",
    "len1=int(input())\n",
    "print(\"Please enter the width:\")\n",
    "wid1=int(input())\n",
    "print(\"Rectangle 2\")\n",
    "print(\"Please enter the length:\")\n",
    "len2=int(input())\n",
    "print(\"Please enter the width:\")\n",
    "wid2=int(input())\n",
    "area1=len1*wid1\n",
    "area2=len2*wid2\n",
    "if area1>area2:\n",
    "    print(\"Rectangle 1 has largest area.\")\n",
    "else:\n",
    "    print(\"Rectangle 2 has largest area.\")"
   ]
  },
  {
   "cell_type": "markdown",
   "id": "f39f6220",
   "metadata": {},
   "source": [
    "## Program 24 - The most vowels"
   ]
  },
  {
   "cell_type": "code",
   "execution_count": 28,
   "id": "79cee029",
   "metadata": {},
   "outputs": [
    {
     "name": "stdout",
     "output_type": "stream",
     "text": [
      "Enter sentence 1 \n",
      "You can't handle the truth!\n",
      "Enter sentence 2 \n",
      "Houston, we have a problem.\n",
      "The percentage of vowels in sentence 1 is:  25.93\n",
      "The percentage of vowels in sentence 2 is:  33.33\n",
      "Sentence 1 has 7 vowels.\n",
      "Sentence 2 has 9 vowels.\n",
      "Sentence 2 has more vowels.\n"
     ]
    }
   ],
   "source": [
    "print(\"Enter sentence 1 \")\n",
    "sentence_1=str(input())\n",
    "print(\"Enter sentence 2 \")\n",
    "sentence_2=str(input())\n",
    "a1=sentence_1.count('a')\n",
    "a2=sentence_1.count('e')\n",
    "a3=sentence_1.count('i')\n",
    "a4=sentence_1.count('o')\n",
    "a5=sentence_1.count('u')\n",
    "a6=sentence_2.count('a')\n",
    "a7=sentence_2.count('e')\n",
    "a8=sentence_2.count('i')\n",
    "a9=sentence_2.count('o')\n",
    "a0=sentence_2.count('u')\n",
    "vowel_1=a1+a2+a3+a4+a5\n",
    "vowel_2=a6+a7+a8+a9+a0d\n",
    "per1=100/len(sentence_1)*vowel_1\n",
    "per2=100/len(sentence_2)*vowel_2\n",
    "print(\"The percentage of vowels in sentence 1 is: \",round(per1,2))\n",
    "print(\"The percentage of vowels in sentence 2 is: \",round(per2,2))\n",
    "print(\"Sentence 1 has\",vowel_1,\"vowels.\")\n",
    "print(\"Sentence 2 has\",vowel_2,\"vowels.\")\n",
    "if vowel_1>vowel_2:\n",
    "    print(\"Sentence 1 has more vowels.\")\n",
    "else:\n",
    "    print(\"Sentence 2 has more vowels.\")"
   ]
  },
  {
   "cell_type": "markdown",
   "id": "4ecdac97",
   "metadata": {},
   "source": [
    "## Program 25 - Advice please (part 2)"
   ]
  },
  {
   "cell_type": "code",
   "execution_count": 1,
   "id": "06be65ed",
   "metadata": {},
   "outputs": [
    {
     "name": "stdout",
     "output_type": "stream",
     "text": [
      "Would you like some advice?\n",
      "D\n",
      "Sorry, you were asked to enter Y or N.\n"
     ]
    }
   ],
   "source": [
    "print(\"Would you like some advice?\")\n",
    "advice=input()\n",
    "if advice=='Y':\n",
    "    print(\"Always know where your towel is.\")\n",
    "elif advice=='N':\n",
    "    print(\"Hope you say yes next time.\")\n",
    "else:\n",
    "    print(\"Sorry, you were asked to enter Y or N.\")"
   ]
  },
  {
   "cell_type": "markdown",
   "id": "35514377",
   "metadata": {},
   "source": [
    "## Program 26 - Car tyre check "
   ]
  },
  {
   "cell_type": "code",
   "execution_count": 2,
   "id": "6ac851eb",
   "metadata": {},
   "outputs": [
    {
     "name": "stdout",
     "output_type": "stream",
     "text": [
      "Please enter the test speed (mph).\n",
      "50\n",
      "Please enter the tested stopping distance (m).\n",
      "39.7\n",
      "Your car failed the breaking distance test.\n"
     ]
    }
   ],
   "source": [
    "print(\"Please enter the test speed (mph).\")\n",
    "speed=int(input())\n",
    "print(\"Please enter the tested stopping distance (m).\")\n",
    "distance=float(input())\n",
    "if speed==30 :\n",
    "    if distance<=14:\n",
    "        print(\"Your car passed the breaking distance test.\")\n",
    "    else:\n",
    "         print(\"Your car failed the breaking distance test.\")\n",
    "elif speed==50 :\n",
    "    if distance<=38:\n",
    "        print(\"Your car passed the breaking distance test.\")\n",
    "    else:\n",
    "         print(\"Your car failed the breaking distance test.\")\n",
    "          "
   ]
  },
  {
   "cell_type": "markdown",
   "id": "c86514b4",
   "metadata": {},
   "source": [
    "## Program 27 - Charity collection (part 2)"
   ]
  },
  {
   "cell_type": "code",
   "execution_count": 5,
   "id": "e001a1b1",
   "metadata": {},
   "outputs": [
    {
     "name": "stdout",
     "output_type": "stream",
     "text": [
      "Please enter the first amount raised.\n",
      "740\n",
      "Please enter the second amount raised.\n",
      "690\n",
      "Please enter the third amount raised.\n",
      "1024\n",
      "A total of $2454 was raised.\n",
      "With the company bonus,this is $4454.\n"
     ]
    }
   ],
   "source": [
    "print(\"Please enter the first amount raised.\")\n",
    "first=int(input())\n",
    "print(\"Please enter the second amount raised.\")\n",
    "second=int(input())\n",
    "print(\"Please enter the third amount raised.\")\n",
    "third=int(input())\n",
    "raised=first+second+third\n",
    "if raised<1000:\n",
    "    double=100+raised\n",
    "    print(\"A total of $\"+str(raised),\"was raised.\")\n",
    "    print(\"With the company bonus,this is $\"+str(double)+\".\")\n",
    "elif raised>=1000 and raised<=2000:\n",
    "    double=2*raised\n",
    "    print(\"A total of $\"+str(raised),\"was raised.\")\n",
    "    print(\"With the company bonus,this is $\"+str(double)+\".\")\n",
    "elif raised>2000:\n",
    "    double=4000+(raised-2000)\n",
    "    print(\"A total of $\"+str(raised),\"was raised.\")\n",
    "    print(\"With the company bonus,this is $\"+str(double)+\".\")\n"
   ]
  },
  {
   "cell_type": "code",
   "execution_count": null,
   "id": "aa82af58",
   "metadata": {},
   "outputs": [],
   "source": []
  }
 ],
 "metadata": {
  "kernelspec": {
   "display_name": "Python 3",
   "language": "python",
   "name": "python3"
  },
  "language_info": {
   "codemirror_mode": {
    "name": "ipython",
    "version": 3
   },
   "file_extension": ".py",
   "mimetype": "text/x-python",
   "name": "python",
   "nbconvert_exporter": "python",
   "pygments_lexer": "ipython3",
   "version": "3.8.8"
  }
 },
 "nbformat": 4,
 "nbformat_minor": 5
}
