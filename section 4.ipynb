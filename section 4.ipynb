{
 "cells": [
  {
   "cell_type": "markdown",
   "id": "b95d32a6",
   "metadata": {},
   "source": [
    "# Section 4"
   ]
  },
  {
   "cell_type": "markdown",
   "id": "d3a87edd",
   "metadata": {},
   "source": [
    "## Program 46- For sale"
   ]
  },
  {
   "cell_type": "code",
   "execution_count": 4,
   "id": "7e8cf8da",
   "metadata": {},
   "outputs": [
    {
     "name": "stdout",
     "output_type": "stream",
     "text": [
      "Mountain Bike\n",
      "Ski Jacket\n",
      "Electric Guitar\n",
      "PS3-500Gb\n",
      "Badminton Racquet\n"
     ]
    }
   ],
   "source": [
    "item=[\"Mountain Bike\",\"Ski Jacket\",\"Electric Guitar\",\"PS3-500Gb\",\"Badminton Racquet\"]\n",
    "\n",
    "\n",
    "for j in range(5):    \n",
    "    print(item[j])"
   ]
  },
  {
   "cell_type": "markdown",
   "id": "9ffd801e",
   "metadata": {},
   "source": [
    "## Program 47 - For sale(part 2)"
   ]
  },
  {
   "cell_type": "code",
   "execution_count": 6,
   "id": "19628310",
   "metadata": {},
   "outputs": [
    {
     "name": "stdout",
     "output_type": "stream",
     "text": [
      "Mountain Bike - $200\n",
      "Ski Jacket - $67\n",
      "Electric Guitar - $330\n",
      "PS3-500Gb - $20\n",
      "Badminton Racquet - $15\n"
     ]
    }
   ],
   "source": [
    "item=[\"Mountain Bike\",\"Ski Jacket\",\"Electric Guitar\",\"PS3-500Gb\",\"Badminton Racquet\"]\n",
    "price=[\"$200\",\"$67\",\"$330\",\"$20\",\"$15\"]\n",
    "for i in range(5):\n",
    "    print(item[i],\"-\",price[i])\n"
   ]
  },
  {
   "cell_type": "markdown",
   "id": "498d1cd5",
   "metadata": {},
   "source": [
    "## Program 48 - Cricket over (part 2)"
   ]
  },
  {
   "cell_type": "code",
   "execution_count": 7,
   "id": "0470677f",
   "metadata": {},
   "outputs": [
    {
     "name": "stdout",
     "output_type": "stream",
     "text": [
      "please enter the score for each ball.\n",
      "0\n",
      "2\n",
      "0\n",
      "0\n",
      "4\n",
      "6\n",
      "This over score was:  12\n",
      "With each ball scoring\n",
      "0\n",
      "2\n",
      "0\n",
      "0\n",
      "4\n",
      "6\n"
     ]
    }
   ],
   "source": [
    "print(\"please enter the score for each ball.\")\n",
    "c=0\n",
    "b=0\n",
    "a=[]\n",
    "for i in range(6):\n",
    "    b=int(input())\n",
    "    a.append(b)\n",
    "    c=c+b\n",
    "print(\"This over score was: \",c)\n",
    "print(\"With each ball scoring:\")\n",
    "for f in range(6):\n",
    "    print(a[f])"
   ]
  },
  {
   "cell_type": "markdown",
   "id": "346f123e",
   "metadata": {},
   "source": [
    "## Program 49- Dance group"
   ]
  },
  {
   "cell_type": "code",
   "execution_count": 16,
   "id": "9a61f4d9",
   "metadata": {},
   "outputs": [
    {
     "name": "stdout",
     "output_type": "stream",
     "text": [
      "Please enter a name: \n",
      "Jean Grey\n",
      "Please enterJean Grey's age: \n",
      "13\n",
      "Please enter a name: \n",
      "Max Eisenhardt\n",
      "Please enterMax Eisenhardt's age: \n",
      "24\n",
      "Please enter a name: \n",
      "James Howlett\n",
      "Please enterJames Howlett's age: \n",
      "15\n",
      "Please enter a name: \n",
      "Aleksy Nowak\n",
      "Please enterAleksy Nowak's age: \n",
      "9\n",
      "Name and Competition List: \n",
      "Jean Grey-Teen\n",
      "Max Eisenhardt-Senior\n",
      "James Howlett-Teen\n",
      "Aleksy Nowak-Junior\n"
     ]
    }
   ],
   "source": [
    "list=[]\n",
    "name=''\n",
    "level=''\n",
    "g=0\n",
    "for i in range(4):\n",
    "    print(\"Please enter a name: \")\n",
    "    name=input()\n",
    "    print(\"Please enter\"+name+\"'s age: \")\n",
    "    g=int(input())\n",
    "    if g<=12:\n",
    "        level='Junior'\n",
    "    elif g>12 and g<=20:\n",
    "        level='Teen'\n",
    "    elif g>20:\n",
    "        level='Senior'\n",
    "    tlevel=(name+\"-\"+level)\n",
    "    list.append(tlevel)\n",
    "print(\"Name and Competition List: \")    \n",
    "for d in range(4):\n",
    "    print(list[d])"
   ]
  },
  {
   "cell_type": "markdown",
   "id": "32145e6f",
   "metadata": {},
   "source": [
    "## Program 50- Horse hands"
   ]
  },
  {
   "cell_type": "code",
   "execution_count": 28,
   "id": "98a624bf",
   "metadata": {},
   "outputs": [
    {
     "name": "stdout",
     "output_type": "stream",
     "text": [
      "Please enter details of the horse. \n",
      "Maximum height:\n",
      "16\n",
      "Maximum age:\n",
      "15\n",
      "Suitable horses are.\n",
      "Black Beauty , 14 years , 15 hands\n",
      "Franchise , 8 years , 14 hands\n",
      "Langrish , 15 years , 14 hands\n"
     ]
    }
   ],
   "source": [
    "print(\"Please enter details of the horse. \")\n",
    "print(\"Maximum height:\")\n",
    "height=int(input())\n",
    "print(\"Maximum age:\")\n",
    "age=int(input())\n",
    "names=[\"Black Beauty\",\"Franchise\",\"Langrish\",\"Bella\",\"Lucy Nitro\",\"Turbo Tony\"]\n",
    "ages=[14,8,15,16,16,16]\n",
    "hands=[15,14,14,17,17,17]\n",
    "print(\"Suitable horses are.\")\n",
    "for i in range(5):\n",
    "    if hands[i]<=height and ages[i]<=age:\n",
    "        print(names[i],\",\",ages[i],\"years ,\",hands[i],\"hands\")\n",
    "    else:\n",
    "        break"
   ]
  },
  {
   "cell_type": "markdown",
   "id": "6659f813",
   "metadata": {},
   "source": [
    "## Program 51- Horse size\n"
   ]
  },
  {
   "cell_type": "code",
   "execution_count": 5,
   "id": "30a2ec07",
   "metadata": {},
   "outputs": [
    {
     "name": "stdout",
     "output_type": "stream",
     "text": [
      "House floor area calculator.\n",
      "Please enter the number of rooms:\n",
      "3\n",
      "Please enter the name of room 1: Lounge\n",
      "Please enter the lenth (m) of room 1: 3.56\n",
      "Please enter the width (m) of room 1: 4.7\n",
      "Please enter the name of room 2: Kitchen\n",
      "Please enter the lenth (m) of room 2: 2.26\n",
      "Please enter the width (m) of room 2: 3.69\n",
      "Please enter the name of room 3: Bedroom\n",
      "Please enter the lenth (m) of room 3: 4.5\n",
      "Please enter the width (m) of room 3: 4.7\n",
      "House details: \n",
      "Room- Lounge\n",
      "16.7 metres squared\n",
      "Room- Kitchen\n",
      "8.3 metres squared\n",
      "Room- Bedroom\n",
      "21.2 metres squared\n",
      "The total are is calculated as: \n",
      "46.2 metres squared\n"
     ]
    }
   ],
   "source": [
    "\n",
    "print(\"House floor area calculator.\")\n",
    "print(\"Please enter the number of rooms:\")\n",
    "room=int(input())\n",
    "d=0\n",
    "area=0\n",
    "name=[]\n",
    "length=[]\n",
    "width=[]\n",
    "for i in range(room):\n",
    "    a=str(input(\"Please enter the name of room \"+str(i+1)+\": \"))\n",
    "    b=float(input(\"Please enter the lenth (m) of room \"+str(i+1)+\": \"))\n",
    "    c=float(input(\"Please enter the width (m) of room \"+str(i+1)+\": \"))\n",
    "    name.append(a)\n",
    "    length.append(b)\n",
    "    width.append(c)\n",
    "print(\"House details: \")    \n",
    "for j in range(room):\n",
    "    print(\"Room-\",name[j])\n",
    "    area=round((length[j]*width[j]),1)\n",
    "    print(area ,\"metres squared\")\n",
    "    d=d+(area)\n",
    "print(\"The total are is calculated as: \")\n",
    "print(d,\"metres squared\")\n",
    "    "
   ]
  },
  {
   "cell_type": "markdown",
   "id": "57998a44",
   "metadata": {},
   "source": [
    "## Program 52- Who's going to the party?"
   ]
  },
  {
   "cell_type": "code",
   "execution_count": 47,
   "id": "ec346ec5",
   "metadata": {},
   "outputs": [
    {
     "name": "stdout",
     "output_type": "stream",
     "text": [
      "Who is going? \n",
      "Melissa ?\n",
      "y\n",
      "Evelyn ?\n",
      "y\n",
      "Emmy ?\n",
      "n\n",
      "Karen ?\n",
      "n\n",
      "Norma ?\n",
      "y\n",
      "Dorek ?\n",
      "y\n",
      "Agnes ?\n",
      "n\n",
      "Billy ?\n",
      "y\n",
      "Gawel ?\n",
      "y\n",
      "Arthur ?\n",
      "n\n",
      "Party Attendence List: \n",
      "Melissa\n",
      "Evelyn\n",
      "Norma\n",
      "Dorek\n",
      "Billy\n",
      "Gawel\n"
     ]
    }
   ],
   "source": [
    "Friends=[\"Melissa\",\"Evelyn\",\"Emmy\",\"Karen\",\"Norma\",\"Dorek\",\"Agnes\",\"Billy\",\"Gawel\",\"Arthur\"]\n",
    "going=''\n",
    "\n",
    "true=[]\n",
    "print(\"Who is going? \")\n",
    "for i in range(10):\n",
    "    print(Friends[i],\"?\")\n",
    "    going=input()        \n",
    "    if going=='y':\n",
    "        true.append(Friends[i])\n",
    "    else:\n",
    "        continue\n",
    "print(\"Party Attendence List: \")        \n",
    "l=len(true)\n",
    "for d in range(l):\n",
    "    print(true[d])"
   ]
  },
  {
   "cell_type": "markdown",
   "id": "33778cab",
   "metadata": {},
   "source": [
    "## Program 53- Bowling club day trip"
   ]
  },
  {
   "cell_type": "code",
   "execution_count": 27,
   "id": "93f556a0",
   "metadata": {},
   "outputs": [
    {
     "name": "stdout",
     "output_type": "stream",
     "text": [
      "How many members have requested a seat? \n",
      "5\n",
      "Please enter your name: \n",
      "Hubab\n",
      "Which row would you like to sit in?\n",
      "2\n",
      "Which seat number would you like to sit in?\n",
      "3\n",
      "Thank you, your name has been added.\n",
      "Please enter your name: \n",
      "Jessica\n",
      "Which row would you like to sit in?\n",
      "3\n",
      "Which seat number would you like to sit in?\n",
      "1\n",
      "Thank you, your name has been added.\n",
      "Please enter your name: \n",
      "Andrew\n",
      "Which row would you like to sit in?\n",
      "5\n",
      "Which seat number would you like to sit in?\n",
      "4\n",
      "Thank you, your name has been added.\n",
      "Please enter your name: \n",
      "Denzel\n",
      "Which row would you like to sit in?\n",
      "2\n",
      "Which seat number would you like to sit in?\n",
      "1\n",
      "Thank you, your name has been added.\n",
      "Please enter your name: \n",
      "Talisha\n",
      "Which row would you like to sit in?\n",
      "4\n",
      "Which seat number would you like to sit in?\n",
      "3\n",
      "Thank you, your name has been added.\n",
      "0 . Empty Empty Empty Empty\n",
      "1 . Denzel Empty Hubab Empty\n",
      "2 . Jessica Empty Empty Empty\n",
      "3 . Empty Empty Talisha Empty\n",
      "4 . Empty Empty Empty Andrew\n"
     ]
    }
   ],
   "source": [
    "print(\"How many members have requested a seat? \")\n",
    "seat=int(input())\n",
    "a1=[\"Empty\"]*seat\n",
    "a2=[\"Empty\"]*seat\n",
    "a3=[\"Empty\"]*seat\n",
    "a4=[\"Empty\"]*seat\n",
    "#a5=[]\n",
    "for i in range(seat):\n",
    "    print(\"Please enter your name: \")\n",
    "    name=str(input())\n",
    "    print(\"Which row would you like to sit in?\")\n",
    "    row=int(input())\n",
    "    print(\"Which seat number would you like to sit in?\")\n",
    "    colum=int(input())\n",
    "    print(\"Thank you, your name has been added.\")\n",
    "    if colum==1:\n",
    "        a1.pop(row-1)\n",
    "        a1.insert(row-1,name)\n",
    "     \n",
    "    elif colum==2:\n",
    "        a2.pop(row-1)\n",
    "        a2.insert(row-1,name)\n",
    "        \n",
    "    elif colum==3:\n",
    "        a3.pop(row-1)\n",
    "        a3.insert(row-1,name)\n",
    "        \n",
    "    elif colum==4:\n",
    "        a4.pop(row-1)\n",
    "        a4.insert(row-1,name)\n",
    "    \n",
    "for j in range(5):\n",
    "    print(j,\".\",a1[j],a2[j],a3[j],a4[j])"
   ]
  },
  {
   "cell_type": "markdown",
   "id": "01e6d8dc",
   "metadata": {},
   "source": [
    "## Program 54 - Counting weeds"
   ]
  },
  {
   "cell_type": "code",
   "execution_count": 30,
   "id": "9feb0dc2",
   "metadata": {},
   "outputs": [
    {
     "name": "stdout",
     "output_type": "stream",
     "text": [
      "Please enter the number of weeds counted at 1,1: 3\n",
      "Please enter the number of weeds counted at 1,2: 0\n",
      "Please enter the number of weeds counted at 1,3: 2\n",
      "Please enter the number of weeds counted at 1,4: 2\n",
      "Please enter the number of weeds counted at 1,5: 0\n",
      "Please enter the number of weeds counted at 2,1: 0\n",
      "Please enter the number of weeds counted at 2,2: 0\n",
      "Please enter the number of weeds counted at 2,3: 0\n",
      "Please enter the number of weeds counted at 2,4: 3\n",
      "Please enter the number of weeds counted at 2,5: 2\n",
      "Please enter the number of weeds counted at 3,1: 0\n",
      "Please enter the number of weeds counted at 3,2: 10\n",
      "Please enter the number of weeds counted at 3,3: 6\n",
      "Please enter the number of weeds counted at 3,4: 5\n",
      "Please enter the number of weeds counted at 3,5: 0\n",
      "Please enter the number of weeds counted at 4,1: 1\n",
      "Please enter the number of weeds counted at 4,2: 1\n",
      "Please enter the number of weeds counted at 4,3: 2\n",
      "Please enter the number of weeds counted at 4,4: 2\n",
      "Please enter the number of weeds counted at 4,5: 7\n",
      "Please enter the number of weeds counted at 5,1: 0\n",
      "Please enter the number of weeds counted at 5,2: 0\n",
      "Please enter the number of weeds counted at 5,3: 5\n",
      "Please enter the number of weeds counted at 5,4: 3\n",
      "Please enter the number of weeds counted at 5,5: 2\n",
      "The results are shown below: \n",
      "3 0 2 2 0\n",
      "0 0 0 3 2\n",
      "0 10 6 5 0\n",
      "1 1 2 2 7\n",
      "0 0 5 3 2\n",
      "The total number of weeds found was -  56\n"
     ]
    }
   ],
   "source": [
    "a1=[]\n",
    "a2=[]\n",
    "a3=[]\n",
    "a4=[]\n",
    "a5=[]\n",
    "weed=0\n",
    "total=0\n",
    "for i in range(5):\n",
    "    for j in range(5):\n",
    "        weed=int(input(\"Please enter the number of weeds counted at \"+str(i+1)+\",\"+str(j+1)+\": \"))\n",
    "        if j==0:\n",
    "            a1.append(weed)\n",
    "        elif j==1:\n",
    "            a2.append(weed)\n",
    "        elif j==2:\n",
    "            a3.append(weed)                                                                             \n",
    "        elif j==3:\n",
    "            a4.append(weed)    \n",
    "        elif j==4:\n",
    "            a5.append(weed)    \n",
    "        total=total+weed\n",
    "print(\"The results are shown below: \")\n",
    "for k in range(5):\n",
    "    print(a1[k],a2[k],a3[k],a4[k],a5[k])\n",
    "print(\"The total number of weeds found was - \",total)    "
   ]
  },
  {
   "cell_type": "markdown",
   "id": "a4c23b66",
   "metadata": {},
   "source": [
    "## Program 55- Cricket over (part 3)"
   ]
  },
  {
   "cell_type": "code",
   "execution_count": 16,
   "id": "3ce740c6",
   "metadata": {},
   "outputs": [
    {
     "name": "stdout",
     "output_type": "stream",
     "text": [
      "Please enter over 1for Team1\n",
      "2\n",
      "1\n",
      "0\n",
      "0\n",
      "0\n",
      "6\n",
      "Please enter over 2for Team1\n",
      "6\n",
      "1\n",
      "4\n",
      "1\n",
      "1\n",
      "1\n",
      "Please enter over 3for Team1\n",
      "1\n",
      "1\n",
      "1\n",
      "2\n",
      "6\n",
      "6\n",
      "Please enter over 1for Team2\n",
      "1\n",
      "1\n",
      "1\n",
      "1\n",
      "2\n",
      "2\n",
      "Please enter over 2for Team2\n",
      "4\n",
      "4\n",
      "4\n",
      "6\n",
      "6\n",
      "1\n",
      "Please enter over 3for Team2\n",
      "6\n",
      "6\n",
      "6\n",
      "1\n",
      "1\n",
      "2\n",
      "Do you wish to continue the result of another game? \n",
      "Y\n",
      "Please enter over 1for Team1\n",
      "2\n",
      "0\n",
      "4\n",
      "1\n",
      "0\n",
      "0\n",
      "Please enter over 2for Team1\n",
      "2\n",
      "1\n",
      "6\n",
      "4\n",
      "0\n",
      "0\n",
      "Please enter over 3for Team1\n",
      "2\n",
      "0\n",
      "0\n",
      "4\n",
      "1\n",
      "0\n",
      "Please enter over 1for Team2\n",
      "6\n",
      "1\n",
      "0\n",
      "0\n",
      "0\n",
      "1\n",
      "Please enter over 2for Team2\n",
      "2\n",
      "0\n",
      "0\n",
      "0\n",
      "4\n",
      "0\n",
      "Please enter over 3for Team2\n",
      "6\n",
      "4\n",
      "0\n",
      "1\n",
      "0\n",
      "0\n",
      "Do you wish to continue the result of another game? \n",
      "N\n",
      "Score for Team 1's three overs\n",
      "27\n",
      "Score for Team 2's three overs\n",
      "25\n",
      "Team 1 win the match\n",
      "Do you wish to continue the result of another game? \n",
      "N\n"
     ]
    }
   ],
   "source": [
    "\n",
    "a=0\n",
    "total=0\n",
    "runs1=0\n",
    "runs2=0\n",
    "game=\"Y\"\n",
    "games=\"Y\"\n",
    "while games==\"Y\":\n",
    "    while game==\"Y\":\n",
    "        runs1=0\n",
    "        runs2=0\n",
    "        for i in range(2):\n",
    "            cricket=[[0]*6 for main in range(3)]\n",
    "            for j in range(3):\n",
    "                print(\"Please enter over \"+str(j+1)+\"for Team\"+str(i+1))\n",
    "                for k in range(6):\n",
    "                    cricket[j][k]=int(input())\n",
    "                    \n",
    "                    if i==0 :\n",
    "                        runs1=runs1+cricket[j][k]\n",
    "                    elif i==1: \n",
    "                        runs2=runs2+cricket[j][k]\n",
    "                     \n",
    "        print(\"Do you wish to continue the result of another game? \")\n",
    "        game=input()             \n",
    "    \n",
    "    print(\"Score for Team 1's three overs\")\n",
    "    print(runs1)\n",
    "    print(\"Score for Team 2's three overs\")\n",
    "    print(runs2)\n",
    "    if runs1>runs2:\n",
    "        print(\"Team 1 win the match\")\n",
    "    else:\n",
    "        print(\"Team 2 win the match\")       \n",
    "            \n",
    "    print(\"Do you wish to continue the result of another game? \")\n",
    "    games=input()             \n",
    "               \n",
    "                \n",
    "           "
   ]
  },
  {
   "cell_type": "markdown",
   "id": "f569a62a",
   "metadata": {},
   "source": [
    "#### "
   ]
  },
  {
   "cell_type": "code",
   "execution_count": null,
   "id": "70a77868",
   "metadata": {},
   "outputs": [],
   "source": []
  }
 ],
 "metadata": {
  "kernelspec": {
   "display_name": "Python 3",
   "language": "python",
   "name": "python3"
  },
  "language_info": {
   "codemirror_mode": {
    "name": "ipython",
    "version": 3
   },
   "file_extension": ".py",
   "mimetype": "text/x-python",
   "name": "python",
   "nbconvert_exporter": "python",
   "pygments_lexer": "ipython3",
   "version": "3.8.8"
  }
 },
 "nbformat": 4,
 "nbformat_minor": 5
}
